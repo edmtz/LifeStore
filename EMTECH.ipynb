{
 "cells": [
  {
   "cell_type": "markdown",
   "id": "d7bdb76f",
   "metadata": {},
   "source": [
    "<h1> <font color = red> Proyecto 1: LifeStore </font></h1>\n",
    "\n",
    "<h3> Análisis realizado por: González Martínez Salvador Eduardo </h3>"
   ]
  },
  {
   "cell_type": "code",
   "execution_count": 1,
   "id": "e68eaa7e",
   "metadata": {},
   "outputs": [
    {
     "name": "stdout",
     "output_type": "stream",
     "text": [
      "Bienvenido al sistema\n",
      "Accede con tus credenciales\n",
      "Usuario: edmtz\n",
      "Contraseña: ifdhi3948Sd\n",
      "¡Hola de nuevo!\n"
     ]
    }
   ],
   "source": [
    "#Inicio de sesión al sistema \n",
    "'''\n",
    "CREDENCIALES\n",
    "Usuario: ['edmtz']\n",
    "Contraseña: ['ifdhi3948Sd']\n",
    "'''\n",
    "#Mensaje de bienvenida\n",
    "mensaje_bienvenida = 'Bienvenido al sistema\\nAccede con tus credenciales'\n",
    "print(mensaje_bienvenida)\n",
    "\n",
    "#Revisión del número de intentos\n",
    "usuarioAccedio = False\n",
    "intentos = 1\n",
    "while not usuarioAccedio:\n",
    "    #Ingreso de credenciales\n",
    "    usuario = input('Usuario: ')\n",
    "    contraseña = input('Contraseña: ')\n",
    "    #Revisión de credenciales\n",
    "    if usuario == 'edmtz' and contraseña == 'ifdhi3948Sd':\n",
    "        usuarioAccedio = True\n",
    "        print('¡Hola de nuevo!')\n",
    "    else:\n",
    "        if usuario == 'edmtz':\n",
    "            print('Contraseña errónea')\n",
    "        else:\n",
    "            print(f'El usuario: \"{usuario}\" no está registrado')\n",
    "        print('Tienes ', 3 - intentos, ' intentos restantes')\n",
    "    intentos += 1\n",
    "    if intentos == 3:\n",
    "        exit()"
   ]
  },
  {
   "cell_type": "code",
   "execution_count": 7,
   "id": "31ff0be1",
   "metadata": {},
   "outputs": [],
   "source": [
    "#Importar las librerías a utilizar\n",
    "import os \n",
    "import pandas as pd\n",
    "import numpy as np\n",
    "import matplotlib.pyplot as plt"
   ]
  },
  {
   "cell_type": "code",
   "execution_count": 8,
   "id": "a1059d66",
   "metadata": {
    "scrolled": true
   },
   "outputs": [],
   "source": [
    "#Abrir los datos de lifestore\n",
    "#Cambiar el path (de acuerdo a donde se encuntren ubicados los archivos)\n",
    "os.chdir(r'C:\\Users\\user\\Desktop\\EMTECH\\proyecto1')\n",
    "#Cargar las variables de búsqueda, productos y ventas\n",
    "from lifestore_file import lifestore_searches, lifestore_products, lifestore_sales\n",
    "#Declaración de variables\n",
    "searches = lifestore_searches\n",
    "products = lifestore_products\n",
    "sales = lifestore_sales"
   ]
  },
  {
   "cell_type": "markdown",
   "id": "54741031",
   "metadata": {},
   "source": [
    "Variables importadas de **lifestore_file.py**:\n",
    "\n",
    "<p><font color = blue><b>searches</b></font> = [id_search, id product]</p>\n",
    "\n",
    "<p><font color = green><b>products</b></font> = [id_product, name, price, category, stock]</p>\n",
    "\n",
    "<p><font color = red><b>sales</b></font> = [id_sale, id_product, score (from 1 to 5), date, refund (1 for true or 0 to false)]"
   ]
  },
  {
   "cell_type": "code",
   "execution_count": 9,
   "id": "2b0e4efd",
   "metadata": {},
   "outputs": [
    {
     "name": "stdout",
     "output_type": "stream",
     "text": [
      "En total se tienen 96 productos\n"
     ]
    }
   ],
   "source": [
    "#¿Cuántos productos tenemos?\n",
    "n_products = len(products)\n",
    "print('En total se tienen {} productos'.format(n_products)) "
   ]
  },
  {
   "cell_type": "code",
   "execution_count": 10,
   "id": "c3d530f8",
   "metadata": {},
   "outputs": [
    {
     "name": "stdout",
     "output_type": "stream",
     "text": [
      "Se realizaron 1033 búsquedas\n"
     ]
    }
   ],
   "source": [
    "#Número de búsquedas \n",
    "n_searches = len(searches)\n",
    "print('Se realizaron {} búsquedas'.format(n_searches))"
   ]
  },
  {
   "cell_type": "code",
   "execution_count": 11,
   "id": "179c6401",
   "metadata": {},
   "outputs": [
    {
     "name": "stdout",
     "output_type": "stream",
     "text": [
      "Hubieron 283 ventas\n"
     ]
    }
   ],
   "source": [
    "#Número de ventas \n",
    "n_sales = len(sales)\n",
    "print('Hubieron {} ventas'.format(n_sales))"
   ]
  },
  {
   "cell_type": "code",
   "execution_count": 12,
   "id": "9d8652d7",
   "metadata": {},
   "outputs": [],
   "source": [
    "#¿Cuántas veces fue buscado cada uno de los productos?\n",
    "'''\n",
    "Searched_idProducts es una lista que contiene 2 arreglos:\n",
    "    1. Id del producto que fue buscado\n",
    "    2. Frecuencia en que este producto se buscó \n",
    "'''\n",
    "searched_idProducts = np.unique([product[1] for product in searches], return_counts = True)"
   ]
  },
  {
   "cell_type": "code",
   "execution_count": 13,
   "id": "adaf3c4d",
   "metadata": {},
   "outputs": [],
   "source": [
    "#IDs de los productos en orden descendente de acuerdo a la frecuencia de búsqueda\n",
    "searchFrecuency_index = [] #Lista de la frecuencia de las búsquedas con su respectivo índice en la variable searched_idProducts\n",
    "for index, frecuency in enumerate(searched_idProducts[1]):\n",
    "    searchFrecuency_index.append([frecuency, index])\n",
    "searchFrecuency_index.sort(reverse = True) #Se ordena de mayor a menor frecuencia\n",
    "sortedSearched_idProducts = [searched_idProducts[0][index[1]] for index in searchFrecuency_index] #Searches ids (mayor a menor)\n",
    "\n",
    "#Crear un diccionario de products para facilitar la búsqueda usando los IDs\n",
    "products_dict = {}\n",
    "for product in products:\n",
    "    products_dict[product[0]] = product[1:]\n",
    "\n",
    "#Lista de los productos en orden descendente de acuerdo a su frecuencia de búsqueda\n",
    "sortedSearched_products = [products_dict[searchID][0] for searchID in sortedSearched_idProducts]"
   ]
  },
  {
   "cell_type": "code",
   "execution_count": 14,
   "id": "732cb08b",
   "metadata": {},
   "outputs": [
    {
     "name": "stdout",
     "output_type": "stream",
     "text": [
      "Top 10 productos más buscados:\n",
      "•SSD Kingston A400, 120GB, SATA III, 2.5'', 7mm\n",
      "•SSD Adata Ultimate SU800, 256GB, SATA III, 2.5'', 7mm\n",
      "•Tarjeta Madre ASUS micro ATX TUF B450M-PLUS GAMING, S-AM4, AMD B450, HDMI, 64GB DDR4 para AMD\n",
      "•Procesador AMD Ryzen 5 2600, S-AM4, 3.40GHz, Six-Core, 16MB L3 Cache, con Disipador Wraith Stealth\n",
      "•Procesador AMD Ryzen 3 3200G con Gráficos Radeon Vega 8, S-AM4, 3.60GHz, Quad-Core, 4MB L3, con Disipador Wraith Spire\n",
      "•Logitech Audífonos Gamer G635 7.1, Alámbrico, 1.5 Metros, 3.5mm, Negro/Azul\n",
      "•TV Monitor LED 24TL520S-PU 24, HD, Widescreen, HDMI, Negro\n",
      "•Procesador Intel Core i7-9700K, S-1151, 3.60GHz, 8-Core, 12MB Smart Cache (9na. Generación Coffee Lake)\n",
      "•SSD XPG SX8200 Pro, 256GB, PCI Express, M.2\n",
      "•Procesador Intel Core i3-9100F, S-1151, 3.60GHz, Quad-Core, 6MB Cache (9na. Generación - Coffee Lake)\n"
     ]
    }
   ],
   "source": [
    "#Top 10 productos más buscados\n",
    "top10_mostSearchedProducts = sortedSearched_products[0:10]\n",
    "print('Top 10 productos más buscados:')\n",
    "for product in top10_mostSearchedProducts:\n",
    "    print('•{}'.format(product))"
   ]
  },
  {
   "cell_type": "code",
   "execution_count": 15,
   "id": "fcfc7bd1",
   "metadata": {},
   "outputs": [
    {
     "name": "stdout",
     "output_type": "stream",
     "text": [
      "Top 10 productos menos buscados:\n",
      "•Procesador Intel Core i3-8100, S-1151, 3.60GHz, Quad-Core, 6MB Smart Cache (8va. Generación - Coffee Lake)\n",
      "•MSI GeForce 210, 1GB GDDR3, DVI, VGA, HDCP, PCI Express 2.0\n",
      "•Tarjeta de Video VisionTek AMD Radeon HD5450, 2GB GDDR3, PCI Express x16\n",
      "•Tarjeta Madre Gigabyte micro ATX Z390 M GAMING, S-1151, Intel Z390, HDMI, 64GB DDR4 para Intel \n",
      "•Tarjeta Madre ASRock ATX H110 Pro BTC+, S-1151, Intel H110, 32GB DDR4, para Intel\n",
      "•SSD Samsung 860 EVO, 1TB, SATA III, M.2\n",
      "•Samsung Smart TV LED 43, Full HD, Widescreen, Negro\n",
      "•Ghia Bocina Portátil BX800, Bluetooth, Inalámbrico, 2.1 Canales, 31W, USB, Negro\n",
      "•Ginga Audífonos con Micrófono GI18ADJ01BT-RO, Bluetooth, Alámbrico/Inalámbrico, 3.5mm, Rojo\n",
      "•Tarjeta de Video Asus NVIDIA GeForce GTX 1050 Ti Phoenix, 4GB 128-bit GDDR5, PCI Express 3.0\n"
     ]
    }
   ],
   "source": [
    "#Top 10 productos menos buscados\n",
    "top10_leastSearchedProducts = sortedSearched_products[-10:]\n",
    "top10_leastSearchedProducts.reverse()\n",
    "print('Top 10 productos menos buscados:')\n",
    "for product in top10_leastSearchedProducts:\n",
    "    print('•{}'.format(product))"
   ]
  },
  {
   "cell_type": "code",
   "execution_count": 16,
   "id": "71dedb62",
   "metadata": {},
   "outputs": [],
   "source": [
    "#¿Cuántas veces fue vendido cada uno de los productos?\n",
    "'''\n",
    "sold_idProducts es una lista que contiene 2 arreglos:\n",
    "    1. Id del producto que fue vendido\n",
    "    2. Frecuencia en que este producto se vendió \n",
    "'''\n",
    "sold_idProducts = np.unique([product[1] for product in sales], return_counts = True)"
   ]
  },
  {
   "cell_type": "code",
   "execution_count": 17,
   "id": "81a88d89",
   "metadata": {},
   "outputs": [],
   "source": [
    "#IDs de los productos en orden descendente de acuerdo a la frecuencia de venta\n",
    "soldFrecuency_index = [] #Lista de la frecuencia de las ventas con su respectivo índice en la variable sold_idProducts\n",
    "for index, frecuency in enumerate(sold_idProducts[1]):\n",
    "    soldFrecuency_index.append([frecuency, index])\n",
    "soldFrecuency_index.sort(reverse = True) #Se ordena de mayor a menor frecuencia\n",
    "sortedSold_idProducts = [sold_idProducts[0][index[1]] for index in soldFrecuency_index] #Los Id de searches(mayor a menor)\n",
    "\n",
    "#Lista de los productos en orden descendente de acuerdo a las frecuencias de sus ventas\n",
    "sortedSold_products = [products_dict[searchID][0] for searchID in sortedSold_idProducts]"
   ]
  },
  {
   "cell_type": "code",
   "execution_count": 18,
   "id": "1d24f1b7",
   "metadata": {},
   "outputs": [
    {
     "name": "stdout",
     "output_type": "stream",
     "text": [
      "Top 10 productos más vendidos:\n",
      "•SSD Kingston A400, 120GB, SATA III, 2.5'', 7mm\n",
      "•Procesador AMD Ryzen 5 2600, S-AM4, 3.40GHz, Six-Core, 16MB L3 Cache, con Disipador Wraith Stealth\n",
      "•Procesador Intel Core i3-9100F, S-1151, 3.60GHz, Quad-Core, 6MB Cache (9na. Generación - Coffee Lake)\n",
      "•Tarjeta Madre ASRock Micro ATX B450M Steel Legend, S-AM4, AMD B450, HDMI, 64GB DDR4 para AMD\n",
      "•SSD Adata Ultimate SU800, 256GB, SATA III, 2.5'', 7mm\n",
      "•Tarjeta Madre ASUS micro ATX TUF B450M-PLUS GAMING, S-AM4, AMD B450, HDMI, 64GB DDR4 para AMD\n",
      "•Procesador AMD Ryzen 3 3200G con Gráficos Radeon Vega 8, S-AM4, 3.60GHz, Quad-Core, 4MB L3, con Disipador Wraith Spire\n",
      "•Procesador AMD Ryzen 5 3600, S-AM4, 3.60GHz, 32MB L3 Cache, con Disipador Wraith Stealth\n",
      "•SSD XPG SX8200 Pro, 256GB, PCI Express, M.2\n",
      "•SSD Kingston A2000 NVMe, 1TB, PCI Express 3.0, M2\n"
     ]
    }
   ],
   "source": [
    "#Top 10 productos más vendidos\n",
    "top10_mostSoldProducts = sortedSold_products[0:10]\n",
    "print('Top 10 productos más vendidos:')\n",
    "for product in top10_mostSoldProducts:\n",
    "    print('•{}'.format(product))"
   ]
  },
  {
   "cell_type": "code",
   "execution_count": 19,
   "id": "01620df4",
   "metadata": {},
   "outputs": [
    {
     "name": "stdout",
     "output_type": "stream",
     "text": [
      "Top 10 productos menos vendidos:\n",
      "•MSI GeForce 210, 1GB GDDR3, DVI, VGA, HDCP, PCI Express 2.0\n",
      "•Tarjeta de Video Asus NVIDIA GeForce GTX 1050 Ti Phoenix, 4GB 128-bit GDDR5, PCI Express 3.0\n",
      "•Tarjeta de Video Gigabyte AMD Radeon R7 370 OC, 2GB 256-bit GDDR5, PCI Express 3.0\n",
      "•Tarjeta de Video MSI NVIDIA GeForce GTX 1050 Ti OC, 4GB 128-bit GDDR5, PCI Express x16 3.0\n",
      "•Tarjeta de Video Zotac NVIDIA GeForce GTX 1660 Ti, 6GB 192-bit GDDR6, PCI Express x16 3.0\n",
      "•Tarjeta Madre Gigabyte XL-ATX TRX40 Designare, S-sTRX4, AMD TRX40, 256GB DDR4 para AMD\n",
      "•Tarjeta Madre ASRock ATX H110 Pro BTC+, S-1151, Intel H110, 32GB DDR4, para Intel\n",
      "•Tarjeta Madre Gigabyte micro ATX GA-H110M-DS2, S-1151, Intel H110, 32GB DDR4 para Intel\n",
      "•SSD Crucial MX500, 1TB, SATA III, M.2\n",
      "•Kit Memoria RAM Corsair Dominator Platinum DDR4, 3200MHz, 16GB (2x 8GB), Non-ECC, CL16, XMP\n"
     ]
    }
   ],
   "source": [
    "#Top 10 productos menos vendidos\n",
    "top10_leastSoldProducts = sortedSold_products[-10:]\n",
    "top10_leastSoldProducts.reverse()\n",
    "print('Top 10 productos menos vendidos:')\n",
    "for product in top10_leastSoldProducts:\n",
    "    print('•{}'.format(product))"
   ]
  },
  {
   "cell_type": "code",
   "execution_count": 20,
   "id": "2bbcd287",
   "metadata": {},
   "outputs": [
    {
     "name": "stdout",
     "output_type": "stream",
     "text": [
      "Los valores que se pueden encontrar en las valoraciones son [1 2 3 4 5]\n",
      "[] -> No hay valores nulos\n"
     ]
    }
   ],
   "source": [
    "#Buscar si hay productos sin reseñas. En caso de existir se deberían eliminar (no hay)\n",
    "reviews = []\n",
    "for sale in sales:\n",
    "    reviews.append(sale[2])\n",
    "print('Los valores que se pueden encontrar en las valoraciones son {}'.format(np.unique(reviews)))\n",
    "print(np.where(np.isnan(reviews) == True)[0], '-> No hay valores nulos')"
   ]
  },
  {
   "cell_type": "code",
   "execution_count": 21,
   "id": "cf7a076d",
   "metadata": {},
   "outputs": [
    {
     "name": "stdout",
     "output_type": "stream",
     "text": [
      "De los 96 productos, hubo ventas de 42 productos\n",
      "54 productos no se vendieron\n"
     ]
    }
   ],
   "source": [
    "#Buscar ahora los productos que no se vendieron y que, en este sentido, no tienen reseña \n",
    "noReview_idProducts = []\n",
    "for product in range(1, n_products + 1):\n",
    "    if product not in sold_idProducts[0]:\n",
    "        noReview_idProducts.append(product)\n",
    "print('De los {} productos, hubo ventas de {} productos'.format(len(products), len(products) - len(noReview_idProducts)))\n",
    "print('{} productos no se vendieron'.format(len(noReview_idProducts)))"
   ]
  },
  {
   "cell_type": "code",
   "execution_count": 22,
   "id": "62fdb7d3",
   "metadata": {},
   "outputs": [
    {
     "data": {
      "text/plain": [
       "['Procesador AMD Ryzen 5 3600, S-AM4, 3.60GHz, 32MB L3 Cache, con Disipador Wraith Stealth',\n",
       " 'Tarjeta de Video Gigabyte AMD Radeon R7 370 OC, 2GB 256-bit GDDR5, PCI Express 3.0',\n",
       " 'Tarjeta Madre ASUS micro ATX TUF B450M-PLUS GAMING, S-AM4, AMD B450, HDMI, 64GB DDR4 para AMD',\n",
       " 'Tarjeta Madre AORUS micro ATX B450 AORUS M (rev. 1.0), S-AM4, AMD B450, HDMI, 64GB DDR4 para AMD',\n",
       " 'Tarjeta Madre AORUS micro ATX B450 AORUS M (rev. 1.0), S-AM4, AMD B450, HDMI, 64GB DDR4 para AMD',\n",
       " 'Tarjeta Madre AORUS micro ATX B450 AORUS M (rev. 1.0), S-AM4, AMD B450, HDMI, 64GB DDR4 para AMD',\n",
       " 'Tarjeta Madre ASRock ATX H110 Pro BTC+, S-1151, Intel H110, 32GB DDR4, para Intel',\n",
       " 'Tarjeta Madre Gigabyte micro ATX GA-H110M-DS2, S-1151, Intel H110, 32GB DDR4 para Intel',\n",
       " \"SSD Kingston A400, 120GB, SATA III, 2.5'', 7mm\"]"
      ]
     },
     "execution_count": 22,
     "metadata": {},
     "output_type": "execute_result"
    }
   ],
   "source": [
    "#¿Cuáles son los productos con devolución?\n",
    "refund_idProduct = [] #lista que contendrá los id de los productos que han sido devueltos\n",
    "for sale in sales:\n",
    "    if sale[-1] == 1:\n",
    "        refund_idProduct.append(sale[1])\n",
    "refund_products = [products_dict[ID][0] for ID in refund_idProduct] #Lista de los productos con devolución\n",
    "refund_products"
   ]
  },
  {
   "cell_type": "code",
   "execution_count": 23,
   "id": "4bebcf15",
   "metadata": {},
   "outputs": [],
   "source": [
    "#Promedio de reseña por productos que fueron vendidos \n",
    "reviewed_idProducts = [sale[1:3] for sale in sales] #Lista anidada de 2 elementos: id de producto y reseña de la venta realizada\n",
    "meanReview_idProducts = [] #Lista que contiene listas anidadas con 2 elementos: id de producto y reseña promedio \n",
    "index = 0\n",
    "for product in sold_idProducts[0]:\n",
    "    mean = []\n",
    "    position = reviewed_idProducts[index]\n",
    "    while product == position[0]:\n",
    "        mean.append(position[1])\n",
    "        index += 1\n",
    "        try:\n",
    "            position = reviewed_idProducts[index]\n",
    "        except:\n",
    "            break\n",
    "    meanReview_idProducts.append([product, np.mean(mean)])"
   ]
  },
  {
   "cell_type": "code",
   "execution_count": 24,
   "id": "54de58e1",
   "metadata": {},
   "outputs": [
    {
     "name": "stdout",
     "output_type": "stream",
     "text": [
      "Top 5 productos mejor valorados:\n",
      "•Procesador Intel Core i7-9700K, S-1151, 3.60GHz, 8-Core, 12MB Smart Cache (9na. Generación Coffee Lake)\n",
      "•Procesador Intel Core i5-9600K, S-1151, 3.70GHz, Six-Core, 9MB Smart Cache (9na. Generiación - Coffee Lake)\n",
      "•Kit SSD Kingston KC600, 1TB, SATA III, 2.5, 7mm\n",
      "•Tarjeta de Video ASUS AMD Radeon RX 570, 4GB 256-bit GDDR5, PCI Express 3.0\n",
      "•Procesador Intel Core i9-9900K, S-1151, 3.60GHz, 8-Core, 16MB Smart Cache (9na. Generación Coffee Lake)\n"
     ]
    }
   ],
   "source": [
    "#Top 5 productos mejor reseñados. Criterio: valoración de 5 y mayor número de reseñas\n",
    "\n",
    "#Mejores productos con criterio de reseña promedio \n",
    "best_idReviewed = [] \n",
    "for review in meanReview_idProducts:\n",
    "    if review[1] == 5.0:\n",
    "        best_idReviewed.append(review[0])\n",
    "\n",
    "#Productos con reseña de 5 junto con su número de valoraciones\n",
    "bestHot_idReviewed = [] #Lista con listas anidadas de 2 elementos: id de producto valorado en 5 y número de valoraciones\n",
    "for index, product in enumerate(sold_idProducts[0]):\n",
    "    if product in best_idReviewed:\n",
    "        bestHot_idReviewed.append([product, sold_idProducts[1][index]])\n",
    "        \n",
    "#Productos con reseña de 5 junto con su número de valoraciones (ordenado de forma descendente)\n",
    "bestHot_idReviewed_sorted = []\n",
    "loop = len(bestHot_idReviewed)\n",
    "top = []\n",
    "while loop != 0:\n",
    "    comparator = bestHot_idReviewed[0][1]\n",
    "    top = bestHot_idReviewed[0]\n",
    "    for review in bestHot_idReviewed[1:]:\n",
    "        if review[1] >= comparator:\n",
    "            comparator = review[1]\n",
    "            top = review\n",
    "        else:\n",
    "            continue\n",
    "    bestHot_idReviewed_sorted.append(top)\n",
    "    bestHot_idReviewed.remove(top)\n",
    "    loop -= 1\n",
    "        \n",
    "#IDs de los mejores 5 productos con reseña de 5 y mayor número de valoraciones\n",
    "best5_idReviewed = bestHot_idReviewed_sorted[0:5]\n",
    "\n",
    "#Mejores productos\n",
    "best5_reviewed = [] #5 producos mejor reseñados y con más valoraciones\n",
    "for product in best5_idReviewed:\n",
    "    best5_reviewed.append(products_dict[product[0]][0])\n",
    "print('Top 5 productos mejor valorados:')\n",
    "for product in best5_reviewed:\n",
    "    print('•{}'.format(product))"
   ]
  },
  {
   "cell_type": "code",
   "execution_count": 25,
   "id": "29be3106",
   "metadata": {},
   "outputs": [
    {
     "name": "stdout",
     "output_type": "stream",
     "text": [
      "Top 5 productos peor valorados:\n",
      "•Tarjeta Madre ASRock ATX H110 Pro BTC+, S-1151, Intel H110, 32GB DDR4, para Intel\n",
      "•Tarjeta de Video Gigabyte AMD Radeon R7 370 OC, 2GB 256-bit GDDR5, PCI Express 3.0\n",
      "•Tarjeta Madre AORUS micro ATX B450 AORUS M (rev. 1.0), S-AM4, AMD B450, HDMI, 64GB DDR4 para AMD\n",
      "•Tarjeta Madre Gigabyte micro ATX GA-H110M-DS2, S-1151, Intel H110, 32GB DDR4 para Intel\n",
      "•Cougar Audífonos Gamer Phontum Essential, Alámbrico, 1.9 Metros, 3.5mm, Negro.\n"
     ]
    }
   ],
   "source": [
    "#Top 5 productos peor reseñados. Criterio: productos con reseñas entre 1 y 3\n",
    "worst_idReviewed = []\n",
    "for i in meanReview_idProducts:\n",
    "    if i[1] > 0 and i[1] <= 3:\n",
    "        worst_idReviewed.append(i)\n",
    "        \n",
    "#Lista con los productos ordenados de peor reseñado a mejor reseñado\n",
    "worst_idReviewed_sorted = []\n",
    "loop = len(worst_idReviewed)\n",
    "top = []\n",
    "while loop != 0:\n",
    "    comparator = worst_idReviewed[0][1]\n",
    "    top = worst_idReviewed[0]\n",
    "    for review in worst_idReviewed[1:]:\n",
    "        if review[1] <= comparator:\n",
    "            comparator = review[1]\n",
    "            top = review\n",
    "        else:\n",
    "            continue\n",
    "    worst_idReviewed_sorted.append(top)\n",
    "    worst_idReviewed.remove(top)\n",
    "    loop -= 1\n",
    "    \n",
    "#Productos peor reseñados \n",
    "worst5_reviewed = [] #5 producos peor reseñados \n",
    "for product in worst_idReviewed_sorted:\n",
    "    worst5_reviewed.append(products_dict[product[0]][0])\n",
    "print('Top 5 productos peor valorados:')\n",
    "for product in worst5_reviewed:\n",
    "    print('•{}'.format(product))"
   ]
  },
  {
   "cell_type": "code",
   "execution_count": 26,
   "id": "4f8e141e",
   "metadata": {},
   "outputs": [
    {
     "name": "stdout",
     "output_type": "stream",
     "text": [
      "Las ganancias mes a mes son:\n",
      "1. 117738\n",
      "2. 107270\n",
      "3. 162931\n",
      "4. 191066\n",
      "5. 91936\n",
      "6. 36949\n",
      "7. 26949\n",
      "8. 3077\n"
     ]
    }
   ],
   "source": [
    "#Total de ingresos y ventas mensuales \n",
    "\n",
    "#Quitar los productos con devolución. Estos no son considerados para los ingresos. \n",
    "sales_noReturn = [] #Variable que se actualizará con una lista de ventas sin devolución\n",
    "for sale in sales:\n",
    "    if sale[4] == 0:\n",
    "        sales_noReturn.append(sale)\n",
    "        \n",
    "#Seleccionar los datos a utilizar (ids y fechas)\n",
    "productDates = [] #Lista con listas anidades de dos elementos: id de productos y fechas\n",
    "for i in sales_noReturn:\n",
    "    productDates.append([i[1], i[3]])\n",
    "\n",
    "#Diccionario de productos (ids) vendidos mes a mes\n",
    "salesByMonth = {} #Diccionario donde cada llave corresponde a un mes, las llaves son de tipo string\n",
    "months = ['01', '02', '03', '04', '05', '06', '07', '08', '09', '10', '11', '12']\n",
    "for month in months:\n",
    "    counter = 0\n",
    "    for sale in productDates:\n",
    "        if sale[1][3:5] == month:\n",
    "            if counter == 0:\n",
    "                salesByMonth[month] = ([sale])\n",
    "            else:\n",
    "                salesByMonth[month] += ([sale])\n",
    "            counter += 1\n",
    "\n",
    "#Lasta de los Ids de productos vendidos mes a mes\n",
    "jan = [ID[0] for ID in salesByMonth['01']]\n",
    "feb = [ID[0] for ID in salesByMonth['02']]\n",
    "mar = [ID[0] for ID in salesByMonth['03']]\n",
    "apr = [ID[0] for ID in salesByMonth['04']]\n",
    "may = [ID[0] for ID in salesByMonth['05']]\n",
    "jun = [ID[0] for ID in salesByMonth['06']]\n",
    "jul = [ID[0] for ID in salesByMonth['07']]\n",
    "aug = [ID[0] for ID in salesByMonth['08']]\n",
    "\n",
    "#Lista de ganancia mes a mes\n",
    "janProfit = 0\n",
    "for ID in jan:\n",
    "    janProfit += products_dict[ID][1]\n",
    "    \n",
    "febProfit = 0\n",
    "for ID in feb:\n",
    "    febProfit += products_dict[ID][1]\n",
    "\n",
    "marProfit = 0\n",
    "for ID in mar:\n",
    "    marProfit += products_dict[ID][1]\n",
    "\n",
    "aprProfit = 0\n",
    "for ID in apr:\n",
    "    aprProfit += products_dict[ID][1]\n",
    "\n",
    "mayProfit = 0\n",
    "for ID in may:\n",
    "    mayProfit += products_dict[ID][1]\n",
    "\n",
    "junProfit = 0\n",
    "for ID in jun:\n",
    "    junProfit += products_dict[ID][1]\n",
    "    \n",
    "julProfit = 0\n",
    "for ID in jul:\n",
    "    julProfit += products_dict[ID][1]\n",
    "    \n",
    "augProfit = 0\n",
    "for ID in aug:\n",
    "    augProfit += products_dict[ID][1]\n",
    "    \n",
    "print('Las ganancias mes a mes son:\\n1. {}\\n2. {}\\n3. {}\\n4. {}\\n5. {}\\n6. {}\\n7. {}\\n8. {}'.format(janProfit, febProfit,\n",
    "       marProfit, aprProfit, mayProfit, junProfit, julProfit, augProfit))"
   ]
  },
  {
   "cell_type": "code",
   "execution_count": 27,
   "id": "02069a68",
   "metadata": {},
   "outputs": [
    {
     "data": {
      "image/png": "[encoded data removed]",
      "text/plain": [
       "<Figure size 432x288 with 1 Axes>"
      ]
     },
     "metadata": {
      "needs_background": "light"
     },
     "output_type": "display_data"
    },
    {
     "data": {
      "image/png": "[encoded data removed]",
      "text/plain": [
       "<Figure size 432x288 with 1 Axes>"
      ]
     },
     "metadata": {
      "needs_background": "light"
     },
     "output_type": "display_data"
    }
   ],
   "source": [
    "#Gráficas mes a mes\n",
    "\n",
    "#Ganancias mes a mes\n",
    "plt.figure()\n",
    "monthlyProfit = [janProfit, febProfit, marProfit, aprProfit, mayProfit, junProfit, julProfit, augProfit]\n",
    "plt.plot(monthlyProfit)\n",
    "plt.xlabel('Mes')\n",
    "plt.ylabel('Ganancia')\n",
    "plt.title('Ganancia en ventas 2020\\nEnero - Agosto')\n",
    "\n",
    "#Ventas mes a mes\n",
    "plt.figure()\n",
    "n_monthlySales = [len(jan), len(feb), len(mar), len(apr), len(may), len(jun), len(jul), len(aug)]\n",
    "plt.plot(n_monthlySales)\n",
    "plt.xlabel('Mes')\n",
    "plt.ylabel('Ventas')\n",
    "plt.title('Ventas 2020\\nEnero - Agosto');"
   ]
  },
  {
   "cell_type": "code",
   "execution_count": 28,
   "id": "af307b8e",
   "metadata": {},
   "outputs": [
    {
     "name": "stdout",
     "output_type": "stream",
     "text": [
      "Las mejores ganacias fueron de 191066, 162931 y 117738; que corresponden a los meses de abril, marzo y enero.\n"
     ]
    }
   ],
   "source": [
    "#Top 3 meses con más ventas\n",
    "monthlyProfit = [janProfit, febProfit, marProfit, aprProfit, mayProfit, junProfit, julProfit, augProfit]\n",
    "monthlyProfit = sorted(monthlyProfit, reverse = True)\n",
    "print('Las mejores ganacias fueron de {}, {} y {}; que corresponden a los meses de abril, marzo y enero.'.format(\n",
    "       monthlyProfit[0], monthlyProfit[1], monthlyProfit[2]))"
   ]
  },
  {
   "cell_type": "code",
   "execution_count": 29,
   "id": "b12da741",
   "metadata": {},
   "outputs": [
    {
     "name": "stdout",
     "output_type": "stream",
     "text": [
      "La ganancia total en el año 2020 hasta agosto es de: 737916\n"
     ]
    }
   ],
   "source": [
    "#Ganancia total\n",
    "totalProfit = janProfit + febProfit + marProfit + aprProfit + mayProfit + junProfit + julProfit + augProfit\n",
    "print('La ganancia total en el año 2020 hasta agosto es de: {}'.format(totalProfit))"
   ]
  }
 ],
 "metadata": {
  "kernelspec": {
   "display_name": "Python 3 (ipykernel)",
   "language": "python",
   "name": "python3"
  },
  "language_info": {
   "codemirror_mode": {
    "name": "ipython",
    "version": 3
   },
   "file_extension": ".py",
   "mimetype": "text/x-python",
   "name": "python",
   "nbconvert_exporter": "python",
   "pygments_lexer": "ipython3",
   "version": "3.8.8"
  }
 },
 "nbformat": 4,
 "nbformat_minor": 5
}
